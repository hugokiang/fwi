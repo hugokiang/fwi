{
 "cells": [
  {
   "cell_type": "code",
   "execution_count": 1,
   "metadata": {
    "collapsed": true,
    "deletable": true,
    "editable": true
   },
   "outputs": [],
   "source": [
    "import numpy as np\n",
    "import matplotlib.pyplot as plt\n",
    "%matplotlib inline"
   ]
  },
  {
   "cell_type": "code",
   "execution_count": 2,
   "metadata": {
    "collapsed": true,
    "deletable": true,
    "editable": true
   },
   "outputs": [],
   "source": [
    "nx = 350\n",
    "nz = 200\n"
   ]
  },
  {
   "cell_type": "code",
   "execution_count": 5,
   "metadata": {
    "collapsed": true,
    "deletable": true,
    "editable": true
   },
   "outputs": [],
   "source": [
    "# gera a matriz\n",
    "v = np.zeros((nx, nz), dtype='float32')\n",
    "v[:,0:51] = 1500\n",
    "v[:,51:101] = 2000\n",
    "v[:,101:185] = 2500\n",
    "v[:,185:200] = 3000\n",
    "\n"
   ]
  },
  {
   "cell_type": "code",
   "execution_count": 6,
   "metadata": {
    "collapsed": false,
    "deletable": true,
    "editable": true,
    "scrolled": true
   },
   "outputs": [
    {
     "data": {
      "image/png": "[encoded data removed]",
      "text/plain": [
       "<matplotlib.figure.Figure at 0x107cbe350>"
      ]
     },
     "metadata": {},
     "output_type": "display_data"
    }
   ],
   "source": [
    "v = v.reshape((nx, nz))\n",
    "plt.imshow(v.T, aspect='auto')\n",
    "plt.colorbar()\n",
    "plt.show()"
   ]
  },
  {
   "cell_type": "code",
   "execution_count": 7,
   "metadata": {
    "collapsed": true,
    "deletable": true,
    "editable": true
   },
   "outputs": [],
   "source": [
    "v.tofile(\"camadas.bin\")"
   ]
  },
  {
   "cell_type": "markdown",
   "metadata": {
    "deletable": true,
    "editable": true
   },
   "source": [
    "# Gera arquivo de aquisição"
   ]
  },
  {
   "cell_type": "code",
   "execution_count": 8,
   "metadata": {
    "collapsed": false,
    "deletable": true,
    "editable": true
   },
   "outputs": [],
   "source": [
    "lista = []\n",
    "\n",
    "# adiciona fonte\n",
    "lista.append([30., 1750., 0., 0., 0.])\n",
    "rz = 20\n",
    "dx = 10\n",
    "xi = 0\n",
    "rx = xi\n",
    "while rx <= 3500.:\n",
    "    lista.append([rz, rx, 0., 0., 0.])\n",
    "    rx += dx\n",
    "lista = np.array(lista)"
   ]
  },
  {
   "cell_type": "code",
   "execution_count": 9,
   "metadata": {
    "collapsed": false,
    "deletable": true,
    "editable": true
   },
   "outputs": [],
   "source": [
    "np.savetxt(\"aquisicao\", lista, fmt='%5.1f')"
   ]
  },
  {
   "cell_type": "markdown",
   "metadata": {
    "deletable": true,
    "editable": true
   },
   "source": [
    "# Gera modelo inicial"
   ]
  },
  {
   "cell_type": "code",
   "execution_count": 14,
   "metadata": {
    "collapsed": false,
    "deletable": true,
    "editable": true
   },
   "outputs": [
    {
     "name": "stdout",
     "output_type": "stream",
     "text": [
      "(150,)\n"
     ]
    }
   ],
   "source": [
    "# gera a matriz\n",
    "v0 = np.zeros((nx, nz), dtype='float32')\n",
    "v0 = v0.reshape((nx, nz))\n",
    "v0[:,0:51] = 1500\n",
    "grad = np.linspace(1500, 3000, 150)\n",
    "print grad.shape\n",
    "#v0[:,50:200]=2000\n",
    "v0[:,50:200]=grad\n",
    "v0.tofile(\"m0.dat\")"
   ]
  },
  {
   "cell_type": "code",
   "execution_count": 15,
   "metadata": {
    "collapsed": false,
    "deletable": true,
    "editable": true
   },
   "outputs": [
    {
     "data": {
      "image/png": "[encoded data removed]",
      "text/plain": [
       "<matplotlib.figure.Figure at 0x10898c4d0>"
      ]
     },
     "metadata": {},
     "output_type": "display_data"
    }
   ],
   "source": [
    "v0 = np.fromfile(\"m0.dat\", dtype=np.float32)\n",
    "v0 = v0.reshape((nx, nz))\n",
    "plt.imshow(v0.T, aspect='auto')\n",
    "plt.colorbar()\n",
    "plt.show()"
   ]
  },
  {
   "cell_type": "markdown",
   "metadata": {
    "deletable": true,
    "editable": true
   },
   "source": [
    "# Gera arquivos de aquisição"
   ]
  },
  {
   "cell_type": "code",
   "execution_count": 47,
   "metadata": {
    "collapsed": false,
    "deletable": true,
    "editable": true
   },
   "outputs": [],
   "source": [
    "sz = 30.\n",
    "sx = 40.\n",
    "dsx = 250.\n",
    "drx = 20\n",
    "rz = 20.\n",
    "tiro=0\n",
    "while sx < 3500.:\n",
    "    lista = []\n",
    "    # adiciona fonte\n",
    "    lista.append([sz, sx, 0., 0., 0.])\n",
    "    xi = 20\n",
    "    rx = xi\n",
    "    while rx < 3500.:\n",
    "        lista.append([rz, rx, 0., 0., 0.])\n",
    "        rx += drx\n",
    "    lista = np.array(lista)\n",
    "    nome=\"aquis/tiro\"+str(tiro)\n",
    "    np.savetxt(nome, lista, fmt='%5.1f')  \n",
    "    tiro+=1\n",
    "    sx += dsx\n",
    "\n",
    "    "
   ]
  }
 ],
 "metadata": {
  "kernelspec": {
   "display_name": "Python 2",
   "language": "python",
   "name": "python2"
  },
  "language_info": {
   "codemirror_mode": {
    "name": "ipython",
    "version": 2
   },
   "file_extension": ".py",
   "mimetype": "text/x-python",
   "name": "python",
   "nbconvert_exporter": "python",
   "pygments_lexer": "ipython2",
   "version": "2.7.10"
  }
 },
 "nbformat": 4,
 "nbformat_minor": 1
}
